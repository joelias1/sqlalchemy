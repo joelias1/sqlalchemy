{
 "cells": [
  {
   "cell_type": "code",
   "execution_count": 33,
   "metadata": {},
   "outputs": [],
   "source": [
    "from flask import Flask, jsonify"
   ]
  },
  {
   "cell_type": "code",
   "execution_count": 34,
   "metadata": {},
   "outputs": [],
   "source": [
    "app = Flask(__name__)"
   ]
  },
  {
   "cell_type": "code",
   "execution_count": 35,
   "metadata": {},
   "outputs": [],
   "source": [
    "@app.route('/')\n",
    "def welcome():\n",
    "    return (\n",
    "        f'Routes Use:<br/>'\n",
    "        f'/api/v1.0/precipitation<br/>'\n",
    "        f'/api/v1.0/stations<br/>'\n",
    "        f'/api/v1.0/tobs<br/>'\n",
    "        f'/api/v1.0/<start><br/>'\n",
    "        f'/api/v1.0/<start>/<end>'\n",
    "    \n",
    "    )\n"
   ]
  },
  {
   "cell_type": "code",
   "execution_count": 36,
   "metadata": {},
   "outputs": [],
   "source": [
    "@app.route('/api/v1.0/precipitation')\n",
    "def precipitation() :\n",
    "    last_year = dt.date(2017, 8, 23) - dt.timedelta(days=365)\n",
    "    prev_year = maxDate - dt.timedelta(days=365) \n",
    "# Performing a query\n",
    "           \n",
    "    temp_df = (session.query(Measurement.date, Measurement.prcp)\n",
    "              .filter(Measurement.date <= maxDate)\n",
    "              .filter(Measurement.date >= year_ago)\n",
    "              .order_by(Measurement.date).all())\n",
    "    \n",
    "    prcp_df = {date: prcp for date, prcp in temp_df}\n",
    "    \n",
    "    return jsonify(prcp_df)\n"
   ]
  },
  {
   "cell_type": "code",
   "execution_count": 37,
   "metadata": {},
   "outputs": [],
   "source": [
    "@app.route('/api/v1.0/stations')\n",
    "def stations():\n",
    "\n",
    "    active_stations = session.query(Station.station).all()\n",
    "\n",
    "    return jsonify(active_stations)\n"
   ]
  },
  {
   "cell_type": "code",
   "execution_count": 38,
   "metadata": {},
   "outputs": [],
   "source": [
    "@app.route('/api/v1.0/tobs') \n",
    "def tobs():  \n",
    "    last_year = dt.date(2017, 8 ,23)\n",
    "    prev_year = maxDate - dt.timedelta(days=365)\n",
    "\n",
    "    temp_df = (session.query(Measurement.tobs)\n",
    "                .filter(Measurement.station == 'USC00519281')\n",
    "                .filter(Measurement.date <= maxDate)\n",
    "                .filter(Measurement.date >= year_ago)\n",
    "                .order_by(Measurement.tobs).all())\n",
    "    \n",
    "    return jsonify(lastyear)"
   ]
  },
  {
   "cell_type": "code",
   "execution_count": 39,
   "metadata": {},
   "outputs": [],
   "source": [
    "@app.route('/api/v1.0/<start>') \n",
    "def start(start=None):\n",
    "\n",
    "    \n",
    "\n",
    "    start_queries = (session.query(Measurement.tobs).filter(Measurement.date.between(start, '2017-08-23')).all())\n",
    "    \n",
    "    start_df = pd.DataFrame(tobs_only)\n",
    "\n",
    "    tavg = tobs_df[\"tobs\"].mean()\n",
    "    tmax = tobs_df[\"tobs\"].max()\n",
    "    tmin = tobs_df[\"tobs\"].min()\n",
    "    \n",
    "    return jsonify(tavg, tmax, tmin)\n",
    "\n"
   ]
  },
  {
   "cell_type": "code",
   "execution_count": 40,
   "metadata": {},
   "outputs": [],
   "source": [
    "@app.route('/api/v1.0/<start>/<end>') \n",
    "def startend(start=None, end=None):\n",
    "\n",
    "   \n",
    "    tobs_only = (session.query(Measurement.tobs).filter(Measurement.date.between(start, end)).all())\n",
    "    \n",
    "    tobs_df = pd.DataFrame(tobs_only)\n",
    "\n",
    "    tavg = tobs_df[\"tobs\"].mean()\n",
    "    tmax = tobs_df[\"tobs\"].max()\n",
    "    tmin = tobs_df[\"tobs\"].min()\n",
    "    \n",
    "    return jsonify(tavg, tmax, tmin)\n"
   ]
  },
  {
   "cell_type": "code",
   "execution_count": 10,
   "metadata": {},
   "outputs": [
    {
     "name": "stdout",
     "output_type": "stream",
     "text": [
      " * Serving Flask app \"__main__\" (lazy loading)\n",
      " * Environment: production\n",
      "   WARNING: This is a development server. Do not use it in a production deployment.\n",
      "   Use a production WSGI server instead.\n",
      " * Debug mode: on\n"
     ]
    },
    {
     "name": "stderr",
     "output_type": "stream",
     "text": [
      " * Restarting with stat\n"
     ]
    },
    {
     "ename": "SystemExit",
     "evalue": "1",
     "output_type": "error",
     "traceback": [
      "An exception has occurred, use %tb to see the full traceback.\n",
      "\u001b[1;31mSystemExit\u001b[0m\u001b[1;31m:\u001b[0m 1\n"
     ]
    },
    {
     "name": "stderr",
     "output_type": "stream",
     "text": [
      "C:\\ProgramData\\Anaconda3\\lib\\site-packages\\IPython\\core\\interactiveshell.py:3334: UserWarning: To exit: use 'exit', 'quit', or Ctrl-D.\n",
      "  warn(\"To exit: use 'exit', 'quit', or Ctrl-D.\", stacklevel=1)\n"
     ]
    }
   ],
   "source": [
    "if __name__ == '__main__':\n",
    "    app.run(debug=True)\n",
    "\n"
   ]
  },
  {
   "cell_type": "code",
   "execution_count": null,
   "metadata": {},
   "outputs": [],
   "source": []
  }
 ],
 "metadata": {
  "kernelspec": {
   "display_name": "Python 3",
   "language": "python",
   "name": "python3"
  },
  "language_info": {
   "codemirror_mode": {
    "name": "ipython",
    "version": 3
   },
   "file_extension": ".py",
   "mimetype": "text/x-python",
   "name": "python",
   "nbconvert_exporter": "python",
   "pygments_lexer": "ipython3",
   "version": "3.7.4"
  }
 },
 "nbformat": 4,
 "nbformat_minor": 2
}
